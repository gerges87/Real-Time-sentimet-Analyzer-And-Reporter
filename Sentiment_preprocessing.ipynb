{
  "nbformat": 4,
  "nbformat_minor": 0,
  "metadata": {
    "colab": {
      "provenance": [],
      "gpuType": "T4"
    },
    "kernelspec": {
      "name": "python3",
      "display_name": "Python 3"
    },
    "language_info": {
      "name": "python"
    },
    "accelerator": "GPU"
  },
  "cells": [
    {
      "cell_type": "code",
      "execution_count": null,
      "metadata": {
        "colab": {
          "base_uri": "https://localhost:8080/"
        },
        "id": "AxfB6oupgjkr",
        "outputId": "bfed0a64-22cb-4541-b6ad-6891b11efd1e"
      },
      "outputs": [
        {
          "output_type": "stream",
          "name": "stderr",
          "text": [
            "[nltk_data] Downloading package stopwords to /root/nltk_data...\n",
            "[nltk_data]   Unzipping corpora/stopwords.zip.\n"
          ]
        }
      ],
      "source": [
        "import pandas as pd\n",
        "import numpy as np\n",
        "import matplotlib.pyplot as plt\n",
        "import os\n",
        "import seaborn as sns\n",
        "import nltk\n",
        "nltk.download('stopwords')\n",
        "import re\n",
        "import string\n",
        "from nltk.corpus import stopwords\n",
        "from nltk.stem import SnowballStemmer"
      ]
    },
    {
      "cell_type": "code",
      "source": [
        "from google.colab import drive\n",
        "drive.mount('/content/drive')"
      ],
      "metadata": {
        "colab": {
          "base_uri": "https://localhost:8080/"
        },
        "id": "oZiqIVxjgmVZ",
        "outputId": "707dd9b8-686b-4c77-d912-507bf19d761c"
      },
      "execution_count": null,
      "outputs": [
        {
          "output_type": "stream",
          "name": "stdout",
          "text": [
            "Mounted at /content/drive\n"
          ]
        }
      ]
    },
    {
      "cell_type": "code",
      "source": [
        "import shutil\n",
        "source_path = '/content/drive/My Drive/Colab Notebooks/balanced_reviews.csv'\n",
        "destination_path = '/content/balanced_reviews.csv'\n",
        "shutil.copy(source_path, destination_path)"
      ],
      "metadata": {
        "colab": {
          "base_uri": "https://localhost:8080/",
          "height": 35
        },
        "id": "0G2wuS3AmVMf",
        "outputId": "e28d88e6-9147-415f-f493-c2e7b297c72a"
      },
      "execution_count": null,
      "outputs": [
        {
          "output_type": "execute_result",
          "data": {
            "text/plain": [
              "'/content/balanced_reviews.csv'"
            ],
            "application/vnd.google.colaboratory.intrinsic+json": {
              "type": "string"
            }
          },
          "metadata": {},
          "execution_count": 4
        }
      ]
    },
    {
      "cell_type": "code",
      "source": [
        "df = pd.read_csv('/content/balanced_reviews.csv') # Remove index_col='id'\n",
        "df = df.set_index('id') if 'id' in df.columns else df #Set 'id' as index if it exists.\n",
        "print(df.head())"
      ],
      "metadata": {
        "colab": {
          "base_uri": "https://localhost:8080/"
        },
        "id": "CkT0DsDcm03U",
        "outputId": "60a9f1a2-1809-4ae1-c4ee-feb7bb61e454"
      },
      "execution_count": null,
      "outputs": [
        {
          "output_type": "stream",
          "name": "stdout",
          "text": [
            "                                              Review  Label\n",
            "0  I mostly drink English Tea and it is very yumm...      1\n",
            "1  Bought this for a 6 yr old with a sore mouth (...      1\n",
            "2  I highly recommend this product, I hope they g...      1\n",
            "3  I just want to say as well as express my true ...      1\n",
            "4  Click is a wonderful source of protein. Not th...      1\n"
          ]
        }
      ]
    },
    {
      "cell_type": "code",
      "source": [
        "def datapreprocess(sen):\n",
        "\n",
        "    sen = re.sub(r\"didn't\", \"did not\", sen)\n",
        "    sen = re.sub(r\"don't\", \"do not\", sen)\n",
        "    sen = re.sub(r\"won't\", \"will not\", sen)\n",
        "    sen = re.sub(r\"can't\", \"can not\", sen)\n",
        "    sen = re.sub(r\"wasn't\", \"was not\", sen)\n",
        "    sen = re.sub(r\"\\'ve\", \" have\", sen)\n",
        "    sen = re.sub(r\"\\'m\", \" am\", sen)\n",
        "    sen = re.sub(r\"\\'ll\", \" will\", sen)\n",
        "    sen = re.sub(r\"\\'re\", \" are\", sen)\n",
        "    sen = re.sub(r\"\\'s\", \" is\", sen)\n",
        "    sen = re.sub(r\"\\'d\", \" would\", sen)\n",
        "    sen = re.sub(r\"\\'t\", \" not\", sen)\n",
        "    sen = re.sub(r\"\\'m\", \" am\", sen)\n",
        "\n",
        "\n",
        "    p = set(string.punctuation) # p take all the punctuations, punctuations displayed below\n",
        "    sen=sen.lower() # convert text to lower case\n",
        "    words=sen.split() # split the text into words\n",
        "    ctext=[]\n",
        "    for i in range(10): #adding numbers from 0 - 9 to p\n",
        "        p.add(str(i))\n",
        "    for i in words:\n",
        "        t=''.join([x for x in i.encode(\"ascii\",\"ignore\").decode(\"ascii\") if x not in p]) # ignoring non ascii charecters and numbers\n",
        "        ctext.append(t)\n",
        "    return \" \".join([i for i in ctext]) # joining the cleaned words to text\n",
        "\n",
        "\n",
        "\n",
        "stop=set(stopwords.words('english'))\n",
        "print(stop)\n",
        "stop.remove('no')\n",
        "stop.remove('not')\n",
        "stop.remove('nor')\n",
        "\n",
        "preprocessed_essays = []\n",
        "# Use 'df' instead of 'data' to refer to the DataFrame\n",
        "# The column name is 'Review', not 'balanced_reviews'\n",
        "for sentance in df['Review'].values:  # Changed 'balanced_reviews' to 'Review'\n",
        "    try:\n",
        "        ctxt=datapreprocess(str(sentance))\n",
        "        if len(ctxt)==0: raise()\n",
        "        ctxt = ' '.join(e for e in ctxt.split() if e not in stop)\n",
        "        preprocessed_essays.append(ctxt.lower().strip())\n",
        "    except:\n",
        "        preprocessed_essays.append(\"NAN\")\n",
        "df['cleanedtext'] = preprocessed_essays # Changed 'data' to 'df'\n",
        "df.drop(df[df[\"cleanedtext\"]==\"NAN\"].index,axis = 0,inplace = True) # deleting rows that have no text, Changed 'data' to 'df'\n",
        "df=df.reset_index(drop='true') # after deleting rows index should be reset, Changed 'data' to 'df'\n",
        "# Assuming 'Label' column contains 'positive' and 'negative' values\n",
        "df['decision']= df['Label'].replace('positive',1) # Changed 'decision' to 'Label'\n",
        "df['decision']= df['Label'].replace('negative',0) # Changed 'decision' to 'Label'\n",
        "\n",
        "\n",
        "s = SnowballStemmer(\"english\")\n",
        "p=[]\n",
        "for i in df['cleanedtext'].values: # Changed 'data' to 'df'\n",
        "    k=[]\n",
        "    for word in i.split():\n",
        "        k.append(s.stem(word))\n",
        "    l=' '.join(k)\n",
        "    p.append(l)\n",
        "\n",
        "df['finaltext']=p # Changed 'data' to 'df'\n",
        "\n",
        "df.to_csv (r'balanced_reviews.csv')"
      ],
      "metadata": {
        "colab": {
          "base_uri": "https://localhost:8080/"
        },
        "id": "FhUhulH-nrB3",
        "outputId": "d5873a1c-3f0d-4639-e2c6-99259c647b4c"
      },
      "execution_count": null,
      "outputs": [
        {
          "output_type": "stream",
          "name": "stdout",
          "text": [
            "{'ll', 've', 's', 'to', 'all', \"needn't\", 'by', 'ours', 'both', 'under', 'but', 'has', \"she'll\", 'what', \"he'd\", 'this', 'too', \"i'll\", 'than', 'own', 'having', 'ma', \"don't\", 'into', 'a', 'wouldn', 'were', 'herself', \"isn't\", 'are', 'because', 'isn', 'who', 'same', \"they've\", \"we'll\", \"we'd\", 'whom', 'on', \"it's\", 'above', 'further', 'can', \"shan't\", 'or', 'off', 'such', 'few', 'their', 'do', 'no', 'it', 'itself', 'an', 'myself', 'where', 'below', \"it'll\", \"hasn't\", \"you're\", 'ourselves', 'doing', \"should've\", 'have', 'mightn', 'for', 'had', 'if', 'over', 'me', 'so', 'while', 'these', \"haven't\", 'nor', 'through', 'each', 'those', 'is', 'again', \"aren't\", 'at', \"he'll\", 'am', 'couldn', \"mightn't\", 'doesn', 'other', 'theirs', \"we're\", 'now', 'before', 'then', 'hadn', 'was', 'you', 'with', \"wouldn't\", 'her', \"they'll\", 'down', 'himself', 'i', \"she'd\", \"won't\", 'yourself', 'and', 'been', 't', \"hadn't\", 'm', 'them', 'any', 'don', 'only', 'being', 'yourselves', \"weren't\", 'once', 'she', \"they're\", 'did', \"you'll\", 'up', 'be', 'about', 'weren', 'does', \"it'd\", 'mustn', 'most', 'haven', 'they', \"mustn't\", 'there', 'during', \"they'd\", 'him', 're', 'y', \"we've\", 'as', 'aren', 'after', 'themselves', 'of', \"shouldn't\", \"i'm\", 'why', 'that', \"you've\", \"she's\", 'shan', 'needn', \"you'd\", 'ain', 'his', 'my', \"that'll\", 'when', \"he's\", \"couldn't\", 'd', 'until', 'shouldn', 'wasn', 'hers', \"doesn't\", 'hasn', 'out', 'the', 'didn', 'more', 'some', 'yours', \"i'd\", \"didn't\", 'should', 'he', 'won', 'between', 'your', 'very', 'its', 'which', 'in', 'our', 'not', 'against', 'from', 'how', 'just', \"i've\", 'o', 'we', \"wasn't\", 'will', 'here'}\n"
          ]
        }
      ]
    },
    {
      "cell_type": "code",
      "source": [
        "data=pd.read_csv('balanced_reviews.csv')\n",
        "\n",
        "label = data['decision'].values\n",
        "feedback = data.drop(['decision'], axis=1)\n",
        "\n",
        "\n",
        "from sklearn.model_selection import train_test_split\n",
        "inputtrain, inputtest, outputtrain, outputtest = train_test_split(feedback, label, test_size=0.20, stratify=label)\n",
        "inputtrain, inputcv, outputtrain, outputcv = train_test_split(inputtrain, outputtrain, test_size=0.20, stratify=outputtrain)\n",
        "print(inputtrain.shape)\n",
        "print(inputcv.shape)\n",
        "print(inputtest.shape)\n",
        "print(outputtrain.shape)\n",
        "print(outputcv.shape)\n",
        "print(outputtest.shape)"
      ],
      "metadata": {
        "colab": {
          "base_uri": "https://localhost:8080/"
        },
        "id": "nLw02lpssLhK",
        "outputId": "e0a9ae0b-086e-464b-bc28-e626abbb31fd"
      },
      "execution_count": null,
      "outputs": [
        {
          "output_type": "stream",
          "name": "stdout",
          "text": [
            "(400060, 5)\n",
            "(100015, 5)\n",
            "(125019, 5)\n",
            "(400060,)\n",
            "(100015,)\n",
            "(125019,)\n"
          ]
        }
      ]
    },
    {
      "cell_type": "code",
      "source": [
        "data=pd.read_csv('balanced_reviews.csv')\n",
        "\n",
        "label = data['Label'].values\n",
        "feedback = data.drop(['Label'], axis=1)\n",
        "\n",
        "\n",
        "from sklearn.model_selection import train_test_split\n",
        "inputtrain, inputtest, outputtrain, outputtest = train_test_split(feedback, label, test_size=0.20, stratify=label)\n",
        "inputtrain, inputcv, outputtrain, outputcv = train_test_split(inputtrain, outputtrain, test_size=0.20, stratify=outputtrain)\n",
        "print(inputtrain.shape)\n",
        "print(inputcv.shape)\n",
        "print(inputtest.shape)\n",
        "print(outputtrain.shape)\n",
        "print(outputcv.shape)\n",
        "print(outputtest.shape)"
      ],
      "metadata": {
        "colab": {
          "base_uri": "https://localhost:8080/"
        },
        "id": "4-4b_us5suCJ",
        "outputId": "bb1af1e7-df4e-4d0c-97f4-1314e817b93c"
      },
      "execution_count": null,
      "outputs": [
        {
          "output_type": "stream",
          "name": "stdout",
          "text": [
            "(400060, 5)\n",
            "(100015, 5)\n",
            "(125019, 5)\n",
            "(400060,)\n",
            "(100015,)\n",
            "(125019,)\n"
          ]
        }
      ]
    },
    {
      "cell_type": "code",
      "source": [
        "from sklearn.feature_extraction.text import CountVectorizer\n",
        "\n",
        "# Replace np.nan values with empty strings in 'finaltext' column\n",
        "inputtrain['finaltext'] = inputtrain['finaltext'].fillna('')\n",
        "inputcv['finaltext'] = inputcv['finaltext'].fillna('')\n",
        "inputtest['finaltext'] = inputtest['finaltext'].fillna('')\n",
        "\n",
        "vec = CountVectorizer(min_df=10,ngram_range=(1,4))\n",
        "vec.fit(inputtrain['finaltext'].values) # fit has to happen only on train data\n",
        "\n",
        "train_cleanedtext = vec.transform(inputtrain['finaltext'].values)\n",
        "cv_cleanedtext = vec.transform(inputcv['finaltext'].values)\n",
        "test_cleanedtext= vec.transform(inputtest['finaltext'].values)\n",
        "\n",
        "print(\"After vectorizations\")\n",
        "print(train_cleanedtext.shape)\n",
        "print(cv_cleanedtext.shape)\n",
        "print(test_cleanedtext.shape)\n",
        "print(outputtrain.shape)\n",
        "print(outputcv.shape)\n",
        "print(outputtest.shape)\n",
        "print(\"...............................\")"
      ],
      "metadata": {
        "colab": {
          "base_uri": "https://localhost:8080/"
        },
        "id": "2sF4ya3PtKyL",
        "outputId": "085676bd-255f-45e9-8019-e9d980899881"
      },
      "execution_count": null,
      "outputs": [
        {
          "output_type": "stream",
          "name": "stdout",
          "text": [
            "After vectorizations\n",
            "(400060, 370701)\n",
            "(100015, 370701)\n",
            "(125019, 370701)\n",
            "(400060,)\n",
            "(100015,)\n",
            "(125019,)\n",
            "...............................\n"
          ]
        }
      ]
    },
    {
      "cell_type": "code",
      "source": [
        "from google.colab import files\n",
        "files.download('balanced_reviews.csv')"
      ],
      "metadata": {
        "id": "qYw5njpt1GGl",
        "outputId": "d4955933-21bf-446f-87f8-ad9ba7b08cbc",
        "colab": {
          "base_uri": "https://localhost:8080/",
          "height": 34
        }
      },
      "execution_count": null,
      "outputs": [
        {
          "output_type": "display_data",
          "data": {
            "text/plain": [
              "<IPython.core.display.Javascript object>"
            ],
            "application/javascript": [
              "\n",
              "    async function download(id, filename, size) {\n",
              "      if (!google.colab.kernel.accessAllowed) {\n",
              "        return;\n",
              "      }\n",
              "      const div = document.createElement('div');\n",
              "      const label = document.createElement('label');\n",
              "      label.textContent = `Downloading \"${filename}\": `;\n",
              "      div.appendChild(label);\n",
              "      const progress = document.createElement('progress');\n",
              "      progress.max = size;\n",
              "      div.appendChild(progress);\n",
              "      document.body.appendChild(div);\n",
              "\n",
              "      const buffers = [];\n",
              "      let downloaded = 0;\n",
              "\n",
              "      const channel = await google.colab.kernel.comms.open(id);\n",
              "      // Send a message to notify the kernel that we're ready.\n",
              "      channel.send({})\n",
              "\n",
              "      for await (const message of channel.messages) {\n",
              "        // Send a message to notify the kernel that we're ready.\n",
              "        channel.send({})\n",
              "        if (message.buffers) {\n",
              "          for (const buffer of message.buffers) {\n",
              "            buffers.push(buffer);\n",
              "            downloaded += buffer.byteLength;\n",
              "            progress.value = downloaded;\n",
              "          }\n",
              "        }\n",
              "      }\n",
              "      const blob = new Blob(buffers, {type: 'application/binary'});\n",
              "      const a = document.createElement('a');\n",
              "      a.href = window.URL.createObjectURL(blob);\n",
              "      a.download = filename;\n",
              "      div.appendChild(a);\n",
              "      a.click();\n",
              "      div.remove();\n",
              "    }\n",
              "  "
            ]
          },
          "metadata": {}
        },
        {
          "output_type": "display_data",
          "data": {
            "text/plain": [
              "<IPython.core.display.Javascript object>"
            ],
            "application/javascript": [
              "download(\"download_2a6ee0ab-0c95-40fc-99db-d449ab903a08\", \"balanced_reviews.csv\", 713154190)"
            ]
          },
          "metadata": {}
        }
      ]
    }
  ]
}